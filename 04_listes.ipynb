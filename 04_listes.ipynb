{
  "nbformat": 4,
  "nbformat_minor": 0,
  "metadata": {
    "kernelspec": {
      "display_name": "Python 3",
      "language": "python",
      "name": "python3"
    },
    "language_info": {
      "codemirror_mode": {
        "name": "ipython",
        "version": 3
      },
      "file_extension": ".py",
      "mimetype": "text/x-python",
      "name": "python",
      "nbconvert_exporter": "python",
      "pygments_lexer": "ipython3",
      "version": "3.7.6"
    },
    "colab": {
      "name": "04_listes.ipynb",
      "provenance": [],
      "include_colab_link": true
    }
  },
  "cells": [
    {
      "cell_type": "markdown",
      "metadata": {
        "id": "view-in-github",
        "colab_type": "text"
      },
      "source": [
        "<a href=\"https://colab.research.google.com/github/uvsq22103394/l1-python/blob/master/04_listes.ipynb\" target=\"_parent\"><img src=\"https://colab.research.google.com/assets/colab-badge.svg\" alt=\"Open In Colab\"/></a>"
      ]
    },
    {
      "cell_type": "markdown",
      "metadata": {
        "id": "M5QVNUiaXEyO"
      },
      "source": [
        "# TD 4: Listes"
      ]
    },
    {
      "cell_type": "markdown",
      "metadata": {
        "id": "d1-SOUsoXEyc"
      },
      "source": [
        "---\n",
        "\n",
        "## 1. Débuts avec les listes\n",
        "\n",
        "Dans cette partie, il faut écrire les réponses directement dans le notebook. En plus du cours, n'hésitez pas à consulter la documentation (tutoriel) Python sur les listes [ici (introduction aux listes)](https://docs.python.org/fr/3.6/tutorial/introduction.html#lists) et [ici (complément sur les listes)] (https://docs.python.org/fr/3/tutorial/datastructures.html#more-on-lists).\n",
        "\n",
        "1. Créer la liste `3, 5, 10`, l'affecter à une variable, puis l'afficher."
      ]
    },
    {
      "cell_type": "code",
      "metadata": {
        "id": "eqpp-YufXEyg"
      },
      "source": [
        "liste = [3,5,10]"
      ],
      "execution_count": 1,
      "outputs": []
    },
    {
      "cell_type": "markdown",
      "metadata": {
        "id": "9Q8k9M8fXEyk"
      },
      "source": [
        "2. Ajouter ensuite 12 et 17 à la fin puis afficher à nouveau la liste."
      ]
    },
    {
      "cell_type": "code",
      "metadata": {
        "id": "vYhmy22LXEym"
      },
      "source": [
        "liste.append([12,17])"
      ],
      "execution_count": 2,
      "outputs": []
    },
    {
      "cell_type": "markdown",
      "metadata": {
        "id": "b4JfV-3wXEyn"
      },
      "source": [
        "3. Changer le 10 en -7."
      ]
    },
    {
      "cell_type": "code",
      "metadata": {
        "id": "cxZi8mdtXEyo"
      },
      "source": [
        "liste = [3,5,10,12,17]\n",
        "liste[2]=-7"
      ],
      "execution_count": 3,
      "outputs": []
    },
    {
      "cell_type": "markdown",
      "metadata": {
        "id": "W_C--QtcXEzc"
      },
      "source": [
        "4. Avec une boucle `for`, écrire le double de chaque élément de la liste. Cela doit afficher `[6, 10, -14, 24, 34]`. La liste doit être modifiée."
      ]
    },
    {
      "cell_type": "markdown",
      "metadata": {
        "id": "FJscTG9IhTvD"
      },
      "source": [
        ""
      ]
    },
    {
      "cell_type": "code",
      "metadata": {
        "colab": {
          "base_uri": "https://localhost:8080/"
        },
        "id": "_IAM-0uLXEzj",
        "outputId": "f05271bd-f610-4956-a7fb-ded7827e4de9"
      },
      "source": [
        "liste=[i*2 for i in liste]\n",
        "print(liste)"
      ],
      "execution_count": 4,
      "outputs": [
        {
          "output_type": "stream",
          "name": "stdout",
          "text": [
            "[6, 10, -14, 24, 34]\n"
          ]
        }
      ]
    },
    {
      "cell_type": "markdown",
      "metadata": {
        "id": "QzNv36kUXEzo"
      },
      "source": [
        "5. A l'aide d'une boucle `for`, ajouter  la valeur `i` à l'élément d'indice `i` de la liste. Cela doit afficher `[6, 11, -12, 27, 38]`. La liste doit être modifiée."
      ]
    },
    {
      "cell_type": "code",
      "metadata": {
        "colab": {
          "base_uri": "https://localhost:8080/"
        },
        "id": "RzN69AUvXEzq",
        "outputId": "005fb320-29f8-468e-f8c9-b12fd8232bcd"
      },
      "source": [
        "for i in range(len(liste)):\n",
        "  liste[i]+=i\n",
        "print(liste)"
      ],
      "execution_count": 5,
      "outputs": [
        {
          "output_type": "stream",
          "name": "stdout",
          "text": [
            "[6, 11, -12, 27, 38]\n"
          ]
        }
      ]
    },
    {
      "cell_type": "markdown",
      "metadata": {
        "id": "_T8ifr01XEzs"
      },
      "source": [
        "6. Tirer 10 nombres à 2 chiffres au hasard et les mettre dans une nouvelle liste (vide au départ), puis afficher la somme des entiers de la liste et le plus grand de ces entiers."
      ]
    },
    {
      "cell_type": "code",
      "metadata": {
        "id": "PFQq38qyXEzu",
        "colab": {
          "base_uri": "https://localhost:8080/"
        },
        "outputId": "8bbd24ee-19b4-4899-c5ac-104208b724bb"
      },
      "source": [
        "import random\n",
        "\n",
        "liste=[]\n",
        "for i in range(10):\n",
        "  a=random.randint(10, 100)\n",
        "  liste.append(a)\n",
        "print(liste)\n",
        "\n",
        "sum(liste)\n",
        "\n",
        "  "
      ],
      "execution_count": 6,
      "outputs": [
        {
          "output_type": "stream",
          "name": "stdout",
          "text": [
            "[50, 91, 100, 92, 19, 63, 10, 10, 95, 50]\n"
          ]
        },
        {
          "output_type": "execute_result",
          "data": {
            "text/plain": [
              "580"
            ]
          },
          "metadata": {},
          "execution_count": 6
        }
      ]
    },
    {
      "cell_type": "markdown",
      "metadata": {
        "id": "72-Arw7MXEzv"
      },
      "source": [
        "7. A partir de la liste choisie au hasard, créer une liste qui contient les éléments pairs et une deuxième liste qui contient les éléments impairs."
      ]
    },
    {
      "cell_type": "code",
      "metadata": {
        "id": "TLEdacLnXEzw",
        "colab": {
          "base_uri": "https://localhost:8080/"
        },
        "outputId": "9ef8b74a-2691-4fb4-90d3-7ebca8c78757"
      },
      "source": [
        "pair = []\n",
        "impair = []\n",
        "a = 0\n",
        "while a < len(liste):\n",
        "\td = liste[a]\n",
        "\tif d % 2:\n",
        "\t\timpair.append(d)\n",
        "\telse:\n",
        "\t\tpair.append(d)\n",
        "\ta = a + 1\n",
        "print(\"Dans la liste donnée\")\n",
        "print (\"les chiffres pairs sont\", pair)\n",
        "print (\"les chiffres impairs sont\", impair)"
      ],
      "execution_count": 7,
      "outputs": [
        {
          "output_type": "stream",
          "name": "stdout",
          "text": [
            "Dans la liste donnée\n",
            "les chiffres pairs sont [50, 100, 92, 10, 10, 50]\n",
            "les chiffres impairs sont [91, 19, 63, 95]\n"
          ]
        }
      ]
    },
    {
      "cell_type": "markdown",
      "metadata": {
        "id": "7kBshbHxXEzx"
      },
      "source": [
        "8. Trier la liste choisie au hasard par ordre croissant en modifiant la liste."
      ]
    },
    {
      "cell_type": "code",
      "metadata": {
        "id": "jnWJgkxdXEz4",
        "colab": {
          "base_uri": "https://localhost:8080/"
        },
        "outputId": "8afd3f3a-390d-4f20-cd40-08a3bcadf1ae"
      },
      "source": [
        "x=liste.sort()\n",
        "print(liste)\n",
        "print(x)"
      ],
      "execution_count": 10,
      "outputs": [
        {
          "output_type": "stream",
          "name": "stdout",
          "text": [
            "[10, 10, 19, 50, 50, 63, 91, 92, 95, 100]\n",
            "None\n"
          ]
        }
      ]
    },
    {
      "cell_type": "markdown",
      "metadata": {
        "id": "4erDeoPUXEz5"
      },
      "source": [
        "9. Supprimer le plus petit et le plus grand élément de la liste triée."
      ]
    },
    {
      "cell_type": "code",
      "metadata": {
        "id": "KPTc4nEgXEz7"
      },
      "source": [
        ""
      ],
      "execution_count": null,
      "outputs": []
    },
    {
      "cell_type": "markdown",
      "metadata": {
        "id": "XmgITV0-XEz9"
      },
      "source": [
        "10. Créer la liste des entiers de 1 jusqu'à 52. Ces entiers représentent les cartes d'un paquet de 52 cartes."
      ]
    },
    {
      "cell_type": "code",
      "metadata": {
        "id": "-bZw5zUBXEz-"
      },
      "source": [
        ""
      ],
      "execution_count": null,
      "outputs": []
    },
    {
      "cell_type": "markdown",
      "metadata": {
        "id": "p-OBllXOXE0A"
      },
      "source": [
        " 11. Couper le jeu de carte revient à choisir un indice `i` entre 0 et 51, et à passer toutes les cartes allant des indices 0 à i-1 à la suite des cartes qui vont des indices i à 51. Ecrire le code qui effectue une coupe choisie au hasard."
      ]
    },
    {
      "cell_type": "code",
      "metadata": {
        "id": "q0MklSbvXE0C"
      },
      "source": [
        ""
      ],
      "execution_count": null,
      "outputs": []
    },
    {
      "cell_type": "markdown",
      "metadata": {
        "id": "ZyAoxi1QXE0D"
      },
      "source": [
        "---\n",
        "\n",
        "## 2. Problème de Syracuse\n",
        "\n",
        "Cette partie est à traiter dans un script que vous pouvez appeler, par exemple, `syracuse.py`.\n",
        "\n",
        "En partant d'un entier `n` de départ, on définit une suite d'entiers en obtenant chaque nouveau terme à partir du précédent soit en le divisant par 2 s'il est pair, soit en le multipliant par 3 et en ajoutant 1 s'il est impair. \n",
        "\n",
        "1. Sans écrire de programme, calculer les premières valeurs de la suite en chosissant `n = 3`.\n",
        "\n",
        "2. Ecrire la fonction qui, à partir d'un entier initial, renvoie la liste des valeurs successives jusqu'à ce que la valeur `1` soit atteinte (le dernier élément de la liste est donc toujours 1)."
      ]
    },
    {
      "cell_type": "code",
      "metadata": {
        "id": "cAKQitb0XE0G"
      },
      "source": [
        "def syracuse(n):\n",
        "    \"\"\" Retourne la liste des valeurs de la suite en partant de n jusqu'à 1 \"\"\"\n",
        "    pass\n",
        "\n",
        "print(syracuse(3))"
      ],
      "execution_count": null,
      "outputs": []
    },
    {
      "cell_type": "markdown",
      "metadata": {
        "id": "bPhqQ-0kXE0I"
      },
      "source": [
        "3. La conjecture de Collatz (ou problème de Syracuse) affirme que, quel que soit l’entier `n` que l’on choisisse au départ, on finit toujours par arriver à 1 (ce résultat est une *conjecture*, c'est-à-dire qu'il n'a pas été démontré, mais qu'il n'existe pas de contre-exemple connu). Écrire une fonction qui, en appelant la fonction précédente, va vérifier si la conjecture est vraie pour `n` de 1 à `n_max`, où `n_max` est un paramètre de la fonction. \n",
        "\n",
        "*Remarque*: si tout se passe bien, la fonction doit juste se terminer et renvoyer `True` par exemple. Sinon, c’est qu’on sera entré dans une boucle infinie."
      ]
    },
    {
      "cell_type": "code",
      "metadata": {
        "tags": [],
        "id": "y4Vy0v7oXE0M"
      },
      "source": [
        "def testeConjecture(n_max):\n",
        "    \"\"\" Teste la conjecture de Collatz pour toutes les valeurs de 2 à n_max \"\"\"\n",
        "    pass\n",
        "\n",
        "print(testeConjecture(10000))"
      ],
      "execution_count": null,
      "outputs": []
    },
    {
      "cell_type": "markdown",
      "metadata": {
        "id": "5rhRE2JuXE0N"
      },
      "source": [
        "4. On appelle *temps de vol* de l’entier `n` le nombre d’étapes pour aller de `n` jusqu’à 1. Le temps de vol de 1 est 0, le temps de vol de 3 est 7. Écrire une fonction qui, étant donné un paramètre `n`, renvoie son temps de vol."
      ]
    },
    {
      "cell_type": "code",
      "metadata": {
        "id": "hpGGU8phXE0p"
      },
      "source": [
        "def tempsVol(n):\n",
        "    \"\"\" Retourne le temps de vol de n \"\"\"\n",
        "    pass\n",
        "\n",
        "print(\"Le temps de vol de\", 3, \"est\", tempsVol(3))"
      ],
      "execution_count": null,
      "outputs": []
    },
    {
      "cell_type": "markdown",
      "metadata": {
        "id": "ikAwafstXE0q"
      },
      "source": [
        "5. Ecrire une fonction qui, étant donné un paramètre `n_max` renvoie la liste des temps de vol de tous les entiers de 1 à `n_max`. *Indication*: utiliser une liste en compréhension."
      ]
    },
    {
      "cell_type": "code",
      "metadata": {
        "id": "K05ZMWrCXE0r"
      },
      "source": [
        "def tempsVolListe(n_max):\n",
        "    \"\"\" Retourne la liste de tous les temps de vol de 1 à n_max \"\"\"\n",
        "    pass\n",
        "\n",
        "print(tempsVolListe(100))"
      ],
      "execution_count": null,
      "outputs": []
    },
    {
      "cell_type": "markdown",
      "metadata": {
        "id": "r9nS5lA6XE0s"
      },
      "source": [
        "6. Déterminer quel entier entre 1 et 10000 a le plus grand temps de vol (réponse 6171 qui a le temps de vol 261)."
      ]
    },
    {
      "cell_type": "markdown",
      "metadata": {
        "id": "bt6xTT_UXE0t"
      },
      "source": [
        "7. L’altitude maximale de l'entier `n` est la plus grande valeur par laquelle passe `n` au cours de son vol. Déterminer quel entier entre 1 et 10000 a la plus grande altitude maximale (réponse 27114424, atteint par l'entier 9663). Ne pas hésiter à écrire de nouvelles fonctions pour cela."
      ]
    },
    {
      "cell_type": "markdown",
      "metadata": {
        "id": "XfymJDZHXE0u"
      },
      "source": [
        "---\n",
        "\n",
        "## 3. Carré magique\n",
        "\n",
        "*Définition* extraite de [l'article Wikipedia sur le carré magique](https://fr.wikipedia.org/wiki/Carr%C3%A9_magique_(math%C3%A9matiques)): en mathématiques, un carré magique d’ordre $n$ est composé de $n^2$ entiers strictement positifs, écrits sous la forme d’un tableau carré. Ces nombres sont disposés de sorte que leurs sommes sur chaque rangée, sur chaque colonne et sur chaque diagonale principale soient égales. On nomme alors *constante magique* la valeur de ces sommes. \n",
        "\n",
        "Un exemple de carré magique:\n",
        "\n",
        "$$\\begin{bmatrix} 4 & 14 & 15 & 1 \\\\ 9 & 7 & 6 & 12 \\\\ 5 & 11 & 10 & 8 \\\\ 16 & 2 & 3 & 13 \\end{bmatrix}$$\n",
        "\n",
        "1. Sans écrire de programme, vérifier qu'il s'agit bien d'un carré magique, et donner sa constante magique.\n",
        "\n",
        "Les questions qui suivent doivent être traitées dans un script, qui peut s'appeler `carre_magique.py`. Pensez à utiliser [PythonTutor](http://pythontutor.com/) et les outils de programmation pour résoudre les problèmes qui pourraient survenir.\n",
        "\n",
        "2. Créer une liste à deux dimensions affectée à  la variable `carre_mag` contenant ce carré magique."
      ]
    },
    {
      "cell_type": "markdown",
      "metadata": {
        "id": "EFzjB6HxXE0v"
      },
      "source": [
        "3. Créer une deuxième liste affectée à la variable `carre_pas_mag` qui ne soit pas magique à partir du carré magique en changeant le 3 en 7. "
      ]
    },
    {
      "cell_type": "markdown",
      "metadata": {
        "id": "tsdURZqPXE0w"
      },
      "source": [
        "4. Créer une fonction qui affiche la liste comme un carré."
      ]
    },
    {
      "cell_type": "code",
      "metadata": {
        "id": "82IkdtLtXE0x"
      },
      "source": [
        "def afficheCarre(carre):\n",
        "    \"\"\" Affiche la liste à 2 dimensions carre comme un carré\"\"\"\n",
        "    pass\n",
        "\n",
        "afficheCarre(carre_mag)\n",
        "afficheCarre(carre_pas_mag)\n"
      ],
      "execution_count": null,
      "outputs": []
    },
    {
      "cell_type": "markdown",
      "metadata": {
        "id": "GzXY8P6cXE0y"
      },
      "source": [
        "5. Ecrire une fonction qui teste si les lignes du carré ont toutes la même somme. Cette fonction renvoie cette somme si c'est le cas, et `-1` sinon."
      ]
    },
    {
      "cell_type": "code",
      "metadata": {
        "id": "nGwnTB7sXE0z"
      },
      "source": [
        "def testLignesEgales(carre):\n",
        "    \"\"\" Renvoie la somme des éléments d'une ligne de la liste 2D carre si toutes les lignes ont la même somme, et -1 sinon \"\"\"\n",
        "    pass\n",
        "\n",
        "print(testLignesEgales(carre_mag))\n",
        "print(testLignesEgales(carre_pas_mag))\n"
      ],
      "execution_count": null,
      "outputs": []
    },
    {
      "cell_type": "markdown",
      "metadata": {
        "id": "jMI4SdKaXE00"
      },
      "source": [
        "6. Même question mais en testant les colonnes."
      ]
    },
    {
      "cell_type": "code",
      "metadata": {
        "id": "xUQVzdurXE01"
      },
      "source": [
        "def testColonnesEgales(carre):\n",
        "    \"\"\" Renvoie la somme des éléments d'une colonne de la liste 2D carre si toutes les colonnes ont la même somme, et -1 sinon \"\"\"\n",
        "    pass\n",
        "\n",
        "print(testColonnesEgales(carre_mag))\n",
        "print(testColonnesEgales(carre_pas_mag))"
      ],
      "execution_count": null,
      "outputs": []
    },
    {
      "cell_type": "markdown",
      "metadata": {
        "id": "ev3m9-I9XE01"
      },
      "source": [
        "7. Même question mais en testant les 2 diagonales."
      ]
    },
    {
      "cell_type": "code",
      "metadata": {
        "id": "H9nk2MlpXE02"
      },
      "source": [
        "def testDiagonalesEgales(carre):\n",
        "    \"\"\" Renvoie la somme des éléments d'une diagonale de la liste 2D carre si les 2 diagonales ont la même somme, et -1 sinon \"\"\"\n",
        "    pass\n",
        "\n",
        "print(testDiagonalesEgales(carre_mag))\n",
        "print(testDiagonalesEgales(carre_pas_mag))"
      ],
      "execution_count": null,
      "outputs": []
    },
    {
      "cell_type": "markdown",
      "metadata": {
        "id": "MpuwFddsXE03"
      },
      "source": [
        "8. Créer une fonction qui teste si un carré est magique. Elle retourne `True` si c'est le cas et `False` sinon."
      ]
    },
    {
      "cell_type": "code",
      "metadata": {
        "id": "V2y-lPguXE04"
      },
      "source": [
        "def estCarreMagique(carre):\n",
        "    \"\"\" Renvoie True si c'est un carre magique et False sinon\"\"\"\n",
        "    pass\n",
        "\n",
        "print(estCarreMagique(carre_mag))\n",
        "print(estCarreMagique(carre_pas_mag))"
      ],
      "execution_count": null,
      "outputs": []
    },
    {
      "cell_type": "markdown",
      "metadata": {
        "id": "HzG6dv6BXE05"
      },
      "source": [
        "9. Un carré d'ordre $n$ est *normal* s'il contient tous les entiers de 1 à $n^2$. Ecrire une fonction qui teste si un carré est normal (pas nécessairement magique)."
      ]
    },
    {
      "cell_type": "code",
      "metadata": {
        "id": "BM7Zjjr0XE06"
      },
      "source": [
        "def estNormal(carre):\n",
        "    \"\"\" Retourne True si contient toutes les valeurs de 1 à n^2 où n est la taille \n",
        "        du carré, et False sinon \"\"\"\n",
        "    pass\n",
        "\n",
        "print(estNormal(carre_mag))\n",
        "print(estNormal(carre_pas_mag))"
      ],
      "execution_count": null,
      "outputs": []
    }
  ]
}